{
 "cells": [
  {
   "cell_type": "code",
   "execution_count": 1,
   "metadata": {},
   "outputs": [],
   "source": [
    "import numpy as np\n",
    "import pandas as pd\n",
    "from sklearn.model_selection import train_test_split\n",
    "from sklearn import metrics\n",
    "from sklearn.ensemble import RandomForestRegressor\n",
    "from sklearn.preprocessing import LabelEncoder\n",
    "\n"
   ]
  },
  {
   "cell_type": "code",
   "execution_count": 2,
   "metadata": {},
   "outputs": [
    {
     "data": {
      "text/html": [
       "<div>\n",
       "<style scoped>\n",
       "    .dataframe tbody tr th:only-of-type {\n",
       "        vertical-align: middle;\n",
       "    }\n",
       "\n",
       "    .dataframe tbody tr th {\n",
       "        vertical-align: top;\n",
       "    }\n",
       "\n",
       "    .dataframe thead th {\n",
       "        text-align: right;\n",
       "    }\n",
       "</style>\n",
       "<table border=\"1\" class=\"dataframe\">\n",
       "  <thead>\n",
       "    <tr style=\"text-align: right;\">\n",
       "      <th></th>\n",
       "      <th>User_ID</th>\n",
       "      <th>Product_ID</th>\n",
       "      <th>Gender</th>\n",
       "      <th>Age</th>\n",
       "      <th>Occupation</th>\n",
       "      <th>City_Category</th>\n",
       "      <th>Stay_In_Current_City_Years</th>\n",
       "      <th>Marital_Status</th>\n",
       "      <th>Product_Category_1</th>\n",
       "      <th>Product_Category_2</th>\n",
       "      <th>Product_Category_3</th>\n",
       "      <th>Purchase</th>\n",
       "    </tr>\n",
       "  </thead>\n",
       "  <tbody>\n",
       "    <tr>\n",
       "      <th>0</th>\n",
       "      <td>1000001</td>\n",
       "      <td>P00069042</td>\n",
       "      <td>F</td>\n",
       "      <td>0-17</td>\n",
       "      <td>10</td>\n",
       "      <td>A</td>\n",
       "      <td>2</td>\n",
       "      <td>0</td>\n",
       "      <td>3</td>\n",
       "      <td>NaN</td>\n",
       "      <td>NaN</td>\n",
       "      <td>8370</td>\n",
       "    </tr>\n",
       "    <tr>\n",
       "      <th>1</th>\n",
       "      <td>1000001</td>\n",
       "      <td>P00248942</td>\n",
       "      <td>F</td>\n",
       "      <td>0-17</td>\n",
       "      <td>10</td>\n",
       "      <td>A</td>\n",
       "      <td>2</td>\n",
       "      <td>0</td>\n",
       "      <td>1</td>\n",
       "      <td>6.0</td>\n",
       "      <td>14.0</td>\n",
       "      <td>15200</td>\n",
       "    </tr>\n",
       "    <tr>\n",
       "      <th>2</th>\n",
       "      <td>1000001</td>\n",
       "      <td>P00087842</td>\n",
       "      <td>F</td>\n",
       "      <td>0-17</td>\n",
       "      <td>10</td>\n",
       "      <td>A</td>\n",
       "      <td>2</td>\n",
       "      <td>0</td>\n",
       "      <td>12</td>\n",
       "      <td>NaN</td>\n",
       "      <td>NaN</td>\n",
       "      <td>1422</td>\n",
       "    </tr>\n",
       "    <tr>\n",
       "      <th>3</th>\n",
       "      <td>1000001</td>\n",
       "      <td>P00085442</td>\n",
       "      <td>F</td>\n",
       "      <td>0-17</td>\n",
       "      <td>10</td>\n",
       "      <td>A</td>\n",
       "      <td>2</td>\n",
       "      <td>0</td>\n",
       "      <td>12</td>\n",
       "      <td>14.0</td>\n",
       "      <td>NaN</td>\n",
       "      <td>1057</td>\n",
       "    </tr>\n",
       "    <tr>\n",
       "      <th>4</th>\n",
       "      <td>1000002</td>\n",
       "      <td>P00285442</td>\n",
       "      <td>M</td>\n",
       "      <td>55+</td>\n",
       "      <td>16</td>\n",
       "      <td>C</td>\n",
       "      <td>4+</td>\n",
       "      <td>0</td>\n",
       "      <td>8</td>\n",
       "      <td>NaN</td>\n",
       "      <td>NaN</td>\n",
       "      <td>7969</td>\n",
       "    </tr>\n",
       "  </tbody>\n",
       "</table>\n",
       "</div>"
      ],
      "text/plain": [
       "   User_ID Product_ID Gender   Age  Occupation City_Category  \\\n",
       "0  1000001  P00069042      F  0-17          10             A   \n",
       "1  1000001  P00248942      F  0-17          10             A   \n",
       "2  1000001  P00087842      F  0-17          10             A   \n",
       "3  1000001  P00085442      F  0-17          10             A   \n",
       "4  1000002  P00285442      M   55+          16             C   \n",
       "\n",
       "  Stay_In_Current_City_Years  Marital_Status  Product_Category_1  \\\n",
       "0                          2               0                   3   \n",
       "1                          2               0                   1   \n",
       "2                          2               0                  12   \n",
       "3                          2               0                  12   \n",
       "4                         4+               0                   8   \n",
       "\n",
       "   Product_Category_2  Product_Category_3  Purchase  \n",
       "0                 NaN                 NaN      8370  \n",
       "1                 6.0                14.0     15200  \n",
       "2                 NaN                 NaN      1422  \n",
       "3                14.0                 NaN      1057  \n",
       "4                 NaN                 NaN      7969  "
      ]
     },
     "execution_count": 2,
     "metadata": {},
     "output_type": "execute_result"
    }
   ],
   "source": [
    "## reading the csv file\n",
    "df=pd.read_csv(\"BlackFriday.csv\")\n",
    "copy_df=df.copy()\n",
    "df.head()"
   ]
  },
  {
   "cell_type": "code",
   "execution_count": 3,
   "metadata": {},
   "outputs": [
    {
     "data": {
      "text/plain": [
       "Text(0.5, 1, 'Highest Purchasing Age Group')"
      ]
     },
     "execution_count": 3,
     "metadata": {},
     "output_type": "execute_result"
    },
    {
     "data": {
      "image/png": "[encoded data removed]",
      "text/plain": [
       "<Figure size 360x360 with 1 Axes>"
      ]
     },
     "metadata": {},
     "output_type": "display_data"
    }
   ],
   "source": [
    "# DATA VISUALIZATION\n",
    "\n",
    "import seaborn as sns\n",
    "import matplotlib.pyplot as plt\n",
    "sns.set(style= \"darkgrid\")\n",
    "sns.catplot(x=\"Age\", kind=\"count\",data=copy_df);\n",
    "plt.title('Highest Purchasing Age Group')\n",
    "\n"
   ]
  },
  {
   "cell_type": "code",
   "execution_count": 4,
   "metadata": {},
   "outputs": [
    {
     "data": {
      "image/png": "[encoded data removed]",
      "text/plain": [
       "<Figure size 432x288 with 1 Axes>"
      ]
     },
     "metadata": {},
     "output_type": "display_data"
    }
   ],
   "source": [
    "countF = copy_df[copy_df['Gender'] == 'F'].count() \n",
    "countM = copy_df[copy_df['Gender'] == 'M'].count() \n",
    "\n",
    "values= [countF.Gender,countM.Gender]\n",
    "labels = ['Female', 'Male']\n",
    "explode = (0.2, 0)\n",
    "plt.pie(values, labels= values,explode=explode,autopct='%1.1f%%',counterclock=False, shadow=True)\n",
    "plt.title('Ratio of Purchases made by Gender')\n",
    "plt.legend(labels,loc=3)\n",
    "plt.show()"
   ]
  },
  {
   "cell_type": "code",
   "execution_count": 5,
   "metadata": {},
   "outputs": [
    {
     "data": {
      "text/plain": [
       "Text(0.5, 1, 'Highest Purchasing Occupation')"
      ]
     },
     "execution_count": 5,
     "metadata": {},
     "output_type": "execute_result"
    },
    {
     "data": {
      "image/png": "[encoded data removed]",
      "text/plain": [
       "<Figure size 360x360 with 1 Axes>"
      ]
     },
     "metadata": {},
     "output_type": "display_data"
    }
   ],
   "source": [
    "sns.set(style= \"darkgrid\")\n",
    "sns.catplot(x=\"Occupation\", kind=\"count\",data=copy_df);\n",
    "plt.title('Highest Purchasing Occupation')"
   ]
  },
  {
   "cell_type": "code",
   "execution_count": 6,
   "metadata": {},
   "outputs": [
    {
     "data": {
      "text/plain": [
       "Text(0.5, 1, 'Highest Purchasing City Category')"
      ]
     },
     "execution_count": 6,
     "metadata": {},
     "output_type": "execute_result"
    },
    {
     "data": {
      "image/png": "[encoded data removed]",
      "text/plain": [
       "<Figure size 360x360 with 1 Axes>"
      ]
     },
     "metadata": {},
     "output_type": "display_data"
    }
   ],
   "source": [
    "sns.set(style= \"darkgrid\")\n",
    "sns.catplot(x=\"City_Category\", kind=\"count\",data=copy_df);\n",
    "plt.title('Highest Purchasing City Category')"
   ]
  },
  {
   "cell_type": "code",
   "execution_count": 7,
   "metadata": {},
   "outputs": [
    {
     "data": {
      "text/plain": [
       "Text(0.5, 1, 'Highest Purchasing Stay_In_Current_City_Years')"
      ]
     },
     "execution_count": 7,
     "metadata": {},
     "output_type": "execute_result"
    },
    {
     "data": {
      "image/png": "[encoded data removed]",
      "text/plain": [
       "<Figure size 360x360 with 1 Axes>"
      ]
     },
     "metadata": {},
     "output_type": "display_data"
    }
   ],
   "source": [
    "sns.set(style= \"darkgrid\")\n",
    "sns.catplot(x=\"Stay_In_Current_City_Years\", kind=\"count\",data=copy_df);\n",
    "plt.title('Highest Purchasing Stay_In_Current_City_Years')"
   ]
  },
  {
   "cell_type": "code",
   "execution_count": 8,
   "metadata": {},
   "outputs": [
    {
     "data": {
      "text/plain": [
       "Text(0.5, 1, 'Highest Purchasing Marital_Status')"
      ]
     },
     "execution_count": 8,
     "metadata": {},
     "output_type": "execute_result"
    },
    {
     "data": {
      "image/png": "[encoded data removed]",
      "text/plain": [
       "<Figure size 360x360 with 1 Axes>"
      ]
     },
     "metadata": {},
     "output_type": "display_data"
    }
   ],
   "source": [
    "sns.set(style= \"darkgrid\")\n",
    "sns.catplot(x=\"Marital_Status\", kind=\"count\",data=copy_df);\n",
    "plt.title('Highest Purchasing Marital_Status')"
   ]
  },
  {
   "cell_type": "code",
   "execution_count": 9,
   "metadata": {},
   "outputs": [
    {
     "data": {
      "text/html": [
       "<div>\n",
       "<style scoped>\n",
       "    .dataframe tbody tr th:only-of-type {\n",
       "        vertical-align: middle;\n",
       "    }\n",
       "\n",
       "    .dataframe tbody tr th {\n",
       "        vertical-align: top;\n",
       "    }\n",
       "\n",
       "    .dataframe thead th {\n",
       "        text-align: right;\n",
       "    }\n",
       "</style>\n",
       "<table border=\"1\" class=\"dataframe\">\n",
       "  <thead>\n",
       "    <tr style=\"text-align: right;\">\n",
       "      <th></th>\n",
       "      <th>User_ID</th>\n",
       "      <th>Product_ID</th>\n",
       "      <th>Gender</th>\n",
       "      <th>Age</th>\n",
       "      <th>Occupation</th>\n",
       "      <th>City_Category</th>\n",
       "      <th>Stay_In_Current_City_Years</th>\n",
       "      <th>Marital_Status</th>\n",
       "      <th>Product_Category_1</th>\n",
       "      <th>Product_Category_2</th>\n",
       "      <th>Product_Category_3</th>\n",
       "      <th>Purchase</th>\n",
       "    </tr>\n",
       "  </thead>\n",
       "  <tbody>\n",
       "    <tr>\n",
       "      <th>0</th>\n",
       "      <td>1000001</td>\n",
       "      <td>670</td>\n",
       "      <td>0</td>\n",
       "      <td>0</td>\n",
       "      <td>10</td>\n",
       "      <td>0</td>\n",
       "      <td>2</td>\n",
       "      <td>0</td>\n",
       "      <td>2</td>\n",
       "      <td>167002</td>\n",
       "      <td>153346</td>\n",
       "      <td>8370</td>\n",
       "    </tr>\n",
       "    <tr>\n",
       "      <th>1</th>\n",
       "      <td>1000001</td>\n",
       "      <td>2374</td>\n",
       "      <td>0</td>\n",
       "      <td>0</td>\n",
       "      <td>10</td>\n",
       "      <td>0</td>\n",
       "      <td>2</td>\n",
       "      <td>0</td>\n",
       "      <td>0</td>\n",
       "      <td>4</td>\n",
       "      <td>10</td>\n",
       "      <td>15200</td>\n",
       "    </tr>\n",
       "    <tr>\n",
       "      <th>2</th>\n",
       "      <td>1000001</td>\n",
       "      <td>850</td>\n",
       "      <td>0</td>\n",
       "      <td>0</td>\n",
       "      <td>10</td>\n",
       "      <td>0</td>\n",
       "      <td>2</td>\n",
       "      <td>0</td>\n",
       "      <td>11</td>\n",
       "      <td>4402</td>\n",
       "      <td>226673</td>\n",
       "      <td>1422</td>\n",
       "    </tr>\n",
       "    <tr>\n",
       "      <th>3</th>\n",
       "      <td>1000001</td>\n",
       "      <td>826</td>\n",
       "      <td>0</td>\n",
       "      <td>0</td>\n",
       "      <td>10</td>\n",
       "      <td>0</td>\n",
       "      <td>2</td>\n",
       "      <td>0</td>\n",
       "      <td>11</td>\n",
       "      <td>12</td>\n",
       "      <td>226672</td>\n",
       "      <td>1057</td>\n",
       "    </tr>\n",
       "    <tr>\n",
       "      <th>4</th>\n",
       "      <td>1000002</td>\n",
       "      <td>2732</td>\n",
       "      <td>1</td>\n",
       "      <td>6</td>\n",
       "      <td>16</td>\n",
       "      <td>2</td>\n",
       "      <td>4</td>\n",
       "      <td>0</td>\n",
       "      <td>7</td>\n",
       "      <td>4368</td>\n",
       "      <td>226671</td>\n",
       "      <td>7969</td>\n",
       "    </tr>\n",
       "  </tbody>\n",
       "</table>\n",
       "</div>"
      ],
      "text/plain": [
       "   User_ID  Product_ID  Gender  Age  Occupation  City_Category  \\\n",
       "0  1000001         670       0    0          10              0   \n",
       "1  1000001        2374       0    0          10              0   \n",
       "2  1000001         850       0    0          10              0   \n",
       "3  1000001         826       0    0          10              0   \n",
       "4  1000002        2732       1    6          16              2   \n",
       "\n",
       "   Stay_In_Current_City_Years  Marital_Status  Product_Category_1  \\\n",
       "0                           2               0                   2   \n",
       "1                           2               0                   0   \n",
       "2                           2               0                  11   \n",
       "3                           2               0                  11   \n",
       "4                           4               0                   7   \n",
       "\n",
       "   Product_Category_2  Product_Category_3  Purchase  \n",
       "0              167002              153346      8370  \n",
       "1                   4                  10     15200  \n",
       "2                4402              226673      1422  \n",
       "3                  12              226672      1057  \n",
       "4                4368              226671      7969  "
      ]
     },
     "execution_count": 9,
     "metadata": {},
     "output_type": "execute_result"
    }
   ],
   "source": [
    "## Label encoder\n",
    "\n",
    "encoder=LabelEncoder()\n",
    "\n",
    "df[\"Product_ID\"]=encoder.fit_transform(df[\"Product_ID\"])\n",
    "df[\"Gender\"]=encoder.fit_transform(df[\"Gender\"])\n",
    "df[\"Age\"]=encoder.fit_transform(df[\"Age\"])\n",
    "df[\"Occupation\"]=encoder.fit_transform(df[\"Occupation\"])\n",
    "df[\"City_Category\"]=encoder.fit_transform(df[\"City_Category\"])\n",
    "df[\"Stay_In_Current_City_Years\"]=encoder.fit_transform(df[\"Stay_In_Current_City_Years\"])\n",
    "df[\"Marital_Status\"]=encoder.fit_transform(df[\"Marital_Status\"])\n",
    "df[\"Product_Category_1\"]=encoder.fit_transform(df[\"Product_Category_1\"])\n",
    "df[\"Product_Category_2\"]=encoder.fit_transform(df[\"Product_Category_2\"])\n",
    "df[\"Product_Category_3\"]=encoder.fit_transform(df[\"Product_Category_3\"])\n",
    "#df[\"Purchase\"]=encoder.fit_transform(df[\"Purchase\"])\n",
    "\n",
    "df.head()\n"
   ]
  },
  {
   "cell_type": "code",
   "execution_count": 10,
   "metadata": {},
   "outputs": [],
   "source": [
    "## Spilting the data set\n",
    "\n",
    "columns_x=df.columns\n",
    "columns_x=columns_x[0:len(columns_x)-1]\n",
    "x=df[columns_x].values\n",
    "y=df[\"Purchase\"].values\n",
    "x_train,x_test,y_train,y_test=train_test_split(x,y,test_size=0.2)\n",
    "\n"
   ]
  },
  {
   "cell_type": "code",
   "execution_count": 11,
   "metadata": {},
   "outputs": [
    {
     "name": "stdout",
     "output_type": "stream",
     "text": [
      "Accuracy for train data = 826.682193921327\n",
      "\n",
      "Accuracy for test data = 2114.051975519923\n"
     ]
    }
   ],
   "source": [
    "# Apply the Random Forest Regressor\n",
    "\n",
    "random_forest_reg=RandomForestRegressor(n_estimators=10)\n",
    "\n",
    "# fit the model\n",
    "\n",
    "random_forest_reg.fit(x_train,y_train)\n",
    "\n",
    "# Calculate the mean absolute error\n",
    "print(\"Accuracy for train data =\",metrics.mean_absolute_error(y_train,random_forest_reg.predict(x_train))\n",
    ")\n",
    "print(\"\\nAccuracy for test data =\",metrics.mean_absolute_error(y_test,random_forest_reg.predict(x_test))\n",
    ")"
   ]
  },
  {
   "cell_type": "code",
   "execution_count": 12,
   "metadata": {},
   "outputs": [
    {
     "name": "stdout",
     "output_type": "stream",
     "text": [
      "Accuracy for train data = 3570.955499943411\n",
      "\n",
      "Accuracy for test data = 3578.4161630117787\n"
     ]
    }
   ],
   "source": [
    "## LINEAR REGRESSSION\n",
    "from sklearn.linear_model import LinearRegression\n",
    "reg=LinearRegression()\n",
    "reg.fit(x_train,y_train)\n",
    "# Calculate the mean absolute error\n",
    "print(\"Accuracy for train data =\",metrics.mean_absolute_error(y_train,reg.predict(x_train))\n",
    ")\n",
    "print(\"\\nAccuracy for test data =\",metrics.mean_absolute_error(y_test,reg.predict(x_test))\n",
    ")"
   ]
  },
  {
   "cell_type": "code",
   "execution_count": 13,
   "metadata": {},
   "outputs": [
    {
     "name": "stdout",
     "output_type": "stream",
     "text": [
      "Accuracy for train data = 0.0\n",
      "\n",
      "Accuracy for test data = 2682.8117768518173\n"
     ]
    }
   ],
   "source": [
    "## DECISION TREE\n",
    "from sklearn.tree import DecisionTreeRegressor\n",
    "clf = DecisionTreeRegressor()\n",
    "clf.fit(x_train,y_train)\n",
    "# Calculate the mean absolute error\n",
    "print(\"Accuracy for train data =\",metrics.mean_absolute_error(y_train,clf.predict(x_train))\n",
    ")\n",
    "print(\"\\nAccuracy for test data =\",metrics.mean_absolute_error(y_test,clf.predict(x_test))\n",
    ")"
   ]
  },
  {
   "cell_type": "code",
   "execution_count": 14,
   "metadata": {},
   "outputs": [
    {
     "name": "stdout",
     "output_type": "stream",
     "text": [
      "Accuracy for train data = 2536.1304171339266\n",
      "\n",
      "Accuracy for test data = 2548.009907599416\n"
     ]
    }
   ],
   "source": [
    "# GRADIENT BOOSTING REGRESSOR\n",
    "from sklearn.ensemble import GradientBoostingRegressor\n",
    "regressor = GradientBoostingRegressor(\n",
    "    max_depth=2,\n",
    "    n_estimators=3,\n",
    "    learning_rate=1.0\n",
    ")\n",
    "regressor.fit(x_train, y_train)\n",
    "# Calculate the mean absolute error\n",
    "print(\"Accuracy for train data =\",metrics.mean_absolute_error(y_train,regressor.predict(x_train))\n",
    ")\n",
    "print(\"\\nAccuracy for test data =\",metrics.mean_absolute_error(y_test,regressor.predict(x_test))\n",
    ")"
   ]
  },
  {
   "cell_type": "code",
   "execution_count": 20,
   "metadata": {},
   "outputs": [
    {
     "data": {
      "text/plain": [
       "[826.682193921327, 3570.955499943411, 287.24196024146164, 2536.1304171339266]"
      ]
     },
     "execution_count": 20,
     "metadata": {},
     "output_type": "execute_result"
    }
   ],
   "source": [
    "train_error=[metrics.mean_absolute_error(y_train,random_forest_reg.predict(x_train)),metrics.mean_absolute_error(y_train,reg.predict(x_train))\n",
    ",287.24196024146164,metrics.mean_absolute_error(y_train,regressor.predict(x_train))]\n",
    "train_error"
   ]
  },
  {
   "cell_type": "code",
   "execution_count": 21,
   "metadata": {},
   "outputs": [
    {
     "data": {
      "text/plain": [
       "[2114.051975519923, 3578.4161630117787, 2682.8117768518173, 2548.009907599416]"
      ]
     },
     "execution_count": 21,
     "metadata": {},
     "output_type": "execute_result"
    }
   ],
   "source": [
    "test_error=[metrics.mean_absolute_error(y_test,random_forest_reg.predict(x_test)),metrics.mean_absolute_error(y_test,reg.predict(x_test))\n",
    ",metrics.mean_absolute_error(y_test,clf.predict(x_test)),metrics.mean_absolute_error(y_test,regressor.predict(x_test))]\n",
    "test_error"
   ]
  },
  {
   "cell_type": "code",
   "execution_count": 22,
   "metadata": {},
   "outputs": [
    {
     "data": {
      "text/plain": [
       "['Random Forest',\n",
       " 'Linear Regression',\n",
       " 'Decision Tree',\n",
       " 'Gradient Boosting Regressor']"
      ]
     },
     "execution_count": 22,
     "metadata": {},
     "output_type": "execute_result"
    }
   ],
   "source": [
    "models=[\"Random Forest\",\"Linear Regression\",\"Decision Tree\",\"Gradient Boosting Regressor\"]\n",
    "models"
   ]
  },
  {
   "cell_type": "code",
   "execution_count": 23,
   "metadata": {},
   "outputs": [
    {
     "data": {
      "text/html": [
       "<div>\n",
       "<style scoped>\n",
       "    .dataframe tbody tr th:only-of-type {\n",
       "        vertical-align: middle;\n",
       "    }\n",
       "\n",
       "    .dataframe tbody tr th {\n",
       "        vertical-align: top;\n",
       "    }\n",
       "\n",
       "    .dataframe thead th {\n",
       "        text-align: right;\n",
       "    }\n",
       "</style>\n",
       "<table border=\"1\" class=\"dataframe\">\n",
       "  <thead>\n",
       "    <tr style=\"text-align: right;\">\n",
       "      <th></th>\n",
       "      <th>Train Error</th>\n",
       "      <th>Test Error</th>\n",
       "    </tr>\n",
       "  </thead>\n",
       "  <tbody>\n",
       "    <tr>\n",
       "      <th>Random Forest</th>\n",
       "      <td>826.682194</td>\n",
       "      <td>2114.051976</td>\n",
       "    </tr>\n",
       "    <tr>\n",
       "      <th>Linear Regression</th>\n",
       "      <td>3570.955500</td>\n",
       "      <td>3578.416163</td>\n",
       "    </tr>\n",
       "    <tr>\n",
       "      <th>Decision Tree</th>\n",
       "      <td>287.241960</td>\n",
       "      <td>2682.811777</td>\n",
       "    </tr>\n",
       "    <tr>\n",
       "      <th>Gradient Boosting Regressor</th>\n",
       "      <td>2536.130417</td>\n",
       "      <td>2548.009908</td>\n",
       "    </tr>\n",
       "  </tbody>\n",
       "</table>\n",
       "</div>"
      ],
      "text/plain": [
       "                             Train Error   Test Error\n",
       "Random Forest                 826.682194  2114.051976\n",
       "Linear Regression            3570.955500  3578.416163\n",
       "Decision Tree                 287.241960  2682.811777\n",
       "Gradient Boosting Regressor  2536.130417  2548.009908"
      ]
     },
     "execution_count": 23,
     "metadata": {},
     "output_type": "execute_result"
    }
   ],
   "source": [
    "from pandas import DataFrame,Series\n",
    "col={'Train Error':train_error,'Test Error':test_error}\n",
    "df_error=DataFrame(data=col,index=models)\n",
    "df_error"
   ]
  },
  {
   "cell_type": "code",
   "execution_count": 24,
   "metadata": {},
   "outputs": [
    {
     "data": {
      "text/plain": [
       "<matplotlib.axes._subplots.AxesSubplot at 0x1e62d2adc08>"
      ]
     },
     "execution_count": 24,
     "metadata": {},
     "output_type": "execute_result"
    },
    {
     "data": {
      "image/png": "[encoded data removed]",
      "text/plain": [
       "<Figure size 432x288 with 1 Axes>"
      ]
     },
     "metadata": {},
     "output_type": "display_data"
    }
   ],
   "source": [
    "df_error.plot(kind='bar')\n"
   ]
  },
  {
   "cell_type": "code",
   "execution_count": 26,
   "metadata": {},
   "outputs": [
    {
     "name": "stdout",
     "output_type": "stream",
     "text": [
      "5\n",
      "6\n",
      "7\n",
      "8\n",
      "9\n",
      "10\n",
      "11\n",
      "12\n",
      "13\n",
      "14\n",
      "15\n",
      "16\n",
      "17\n",
      "18\n",
      "19\n",
      "20\n",
      "21\n",
      "22\n",
      "23\n",
      "24\n"
     ]
    }
   ],
   "source": [
    "score_train=[]\n",
    "score_test=[]\n",
    "for i in range(5, 25):\n",
    "    print(i)\n",
    "    random_forest_reg=RandomForestRegressor(n_estimators=i)\n",
    "    random_forest_reg.fit(x_train,y_train)\n",
    "    score_train.append(random_forest_reg.score(x_train,y_train))\n",
    "    score_test.append(random_forest_reg.score(x_test,y_test))"
   ]
  },
  {
   "cell_type": "code",
   "execution_count": 28,
   "metadata": {},
   "outputs": [
    {
     "name": "stderr",
     "output_type": "stream",
     "text": [
      "No handles with labels found to put in legend.\n"
     ]
    },
    {
     "data": {
      "image/png": "[encoded data removed]",
      "text/plain": [
       "<Figure size 432x288 with 1 Axes>"
      ]
     },
     "metadata": {},
     "output_type": "display_data"
    },
    {
     "data": {
      "text/plain": [
       "array([0.92448933, 0.93024795, 0.93440542, 0.9369943 , 0.93984188,\n",
       "       0.94176932, 0.94319909, 0.94434094, 0.94581552, 0.94672782,\n",
       "       0.94765147, 0.94817195, 0.94881906, 0.94940568, 0.95005357,\n",
       "       0.95034717, 0.95102473, 0.95141929, 0.95178289, 0.95195801])"
      ]
     },
     "execution_count": 28,
     "metadata": {},
     "output_type": "execute_result"
    }
   ],
   "source": [
    "train_score=np.array(score_train)\n",
    "x_axis=np.arange(5,25)\n",
    "import matplotlib.pyplot as plt\n",
    "plt.scatter(x_axis, train_score)\n",
    "plt.xlabel(\"n_estimators\")\n",
    "plt.ylabel(\"training score\")\n",
    "plt.title(\"Training score vs no of trees\")\n",
    "plt.legend()\n",
    "plt.show()\n",
    "train_score\n"
   ]
  },
  {
   "cell_type": "code",
   "execution_count": 29,
   "metadata": {},
   "outputs": [
    {
     "data": {
      "text/plain": [
       "Text(0.5, 1.0, 'Test score vs no of trees')"
      ]
     },
     "execution_count": 29,
     "metadata": {},
     "output_type": "execute_result"
    },
    {
     "data": {
      "image/png": "[encoded data removed]",
      "text/plain": [
       "<Figure size 432x288 with 1 Axes>"
      ]
     },
     "metadata": {},
     "output_type": "display_data"
    }
   ],
   "source": [
    "test_score=np.array(score_test)\n",
    "x_axis=np.arange(5,25)\n",
    "import matplotlib.pyplot as plt\n",
    "plt.scatter(x_axis, test_score)\n",
    "plt.xlabel(\"n_estimators\")\n",
    "plt.ylabel(\"test score\")\n",
    "plt.title(\"Test score vs no of trees\")"
   ]
  },
  {
   "cell_type": "code",
   "execution_count": null,
   "metadata": {},
   "outputs": [],
   "source": []
  }
 ],
 "metadata": {
  "kernelspec": {
   "display_name": "Python 3",
   "language": "python",
   "name": "python3"
  },
  "language_info": {
   "codemirror_mode": {
    "name": "ipython",
    "version": 3
   },
   "file_extension": ".py",
   "mimetype": "text/x-python",
   "name": "python",
   "nbconvert_exporter": "python",
   "pygments_lexer": "ipython3",
   "version": "3.7.4"
  }
 },
 "nbformat": 4,
 "nbformat_minor": 2
}
